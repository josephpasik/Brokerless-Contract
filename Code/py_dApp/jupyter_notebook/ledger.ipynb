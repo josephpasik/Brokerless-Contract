{
 "cells": [
  {
   "cell_type": "code",
   "execution_count": 1,
   "metadata": {},
   "outputs": [],
   "source": [
    "import sys\n",
    "from dotenv import load_dotenv\n",
    "from crypto import convertDataToJSON, pinJSONtoIPFS, initContract, w3\n",
    "from pprint import pprint"
   ]
  },
  {
   "cell_type": "code",
   "execution_count": 2,
   "metadata": {
    "scrolled": true
   },
   "outputs": [],
   "source": [
    "registerApt = initContract()"
   ]
  },
  {
   "cell_type": "code",
   "execution_count": 3,
   "metadata": {},
   "outputs": [],
   "source": [
    "def createAptReport():\n",
    "    time = input(\"Date of the auction: \")\n",
    "    description = input(\"Description of the apartment: \")\n",
    "    token_id = int(input(\"Token ID: \"))\n",
    "\n",
    "    json_data = convertDataToJSON(time, description)\n",
    "    report_uri = pinJSONtoIPFS(json_data)\n",
    "\n",
    "    return token_id, report_uri\n",
    "\n",
    "\n",
    "def reportApt(token_id, report_uri):\n",
    "    tx_hash = registerApt.functions.reportApt(token_id, report_uri).transact(\n",
    "        {\"from\": w3.eth.accounts[0]}\n",
    "    )\n",
    "    receipt = w3.eth.waitForTransactionReceipt(tx_hash)\n",
    "    return receipt\n",
    "\n",
    "\n",
    "def getAptReports(token_id):\n",
    "    apt_filter = registerApt.events.Apt.createFilter(\n",
    "        fromBlock=\"0x0\", argument_filters={\"token_id\": token_id}\n",
    "    )\n",
    "    return apt_filter.get_all_entries()\n"
   ]
  },
  {
   "cell_type": "code",
   "execution_count": null,
   "metadata": {},
   "outputs": [],
   "source": [
    "option = input(\"Would you like to get or report an apartment listing?\")\n",
    "\n",
    "if option == \"report\":\n",
    "    token_id, report_uri = createAptReport()\n",
    "\n",
    "    receipt = reportApt(token_id, report_uri)\n",
    "\n",
    "    pprint(receipt)\n",
    "    print(\"Report IPFS Hash:\", report_uri)\n",
    "\n",
    "if option == \"get\":\n",
    "    token_id = int(sys.argv[2])\n",
    "\n",
    "    apt = registerApt.functions.apts(token_id).call()\n",
    "    reports = getAptReports(token_id)\n",
    "\n",
    "    pprint(reports)\n",
    "    print(\"APT\", apt[0], \"has been in\", apt[1], \"apartments.\")"
   ]
  }
 ],
 "metadata": {
  "kernelspec": {
   "display_name": "Python 3",
   "language": "python",
   "name": "python3"
  },
  "language_info": {
   "codemirror_mode": {
    "name": "ipython",
    "version": 3
   },
   "file_extension": ".py",
   "mimetype": "text/x-python",
   "name": "python",
   "nbconvert_exporter": "python",
   "pygments_lexer": "ipython3",
   "version": "3.7.6"
  }
 },
 "nbformat": 4,
 "nbformat_minor": 2
}